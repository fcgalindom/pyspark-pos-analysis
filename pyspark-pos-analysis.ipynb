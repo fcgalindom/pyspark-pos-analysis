{
 "cells": [
  {
   "cell_type": "markdown",
   "id": "caa0effa",
   "metadata": {},
   "source": [
    "# PySpark Part of Speech (POS) analysis\n",
    "Text taken from [Reuters](https://www.reuters.com/business/finance/banks-beware-outsiders-are-cracking-code-finance-2021-09-17/)."
   ]
  },
  {
   "cell_type": "code",
   "execution_count": 1,
   "id": "e6c69e57",
   "metadata": {},
   "outputs": [
    {
     "name": "stdout",
     "output_type": "stream",
     "text": [
      "Requirement already satisfied: nltk in c:\\users\\administrador\\appdata\\local\\programs\\python\\python310\\lib\\site-packages (3.7)\n",
      "Requirement already satisfied: click in c:\\users\\administrador\\appdata\\local\\programs\\python\\python310\\lib\\site-packages (from nltk) (8.0.4)\n",
      "Requirement already satisfied: tqdm in c:\\users\\administrador\\appdata\\local\\programs\\python\\python310\\lib\\site-packages (from nltk) (4.63.0)\n",
      "Requirement already satisfied: regex>=2021.8.3 in c:\\users\\administrador\\appdata\\local\\programs\\python\\python310\\lib\\site-packages (from nltk) (2022.3.2)\n",
      "Requirement already satisfied: joblib in c:\\users\\administrador\\appdata\\local\\programs\\python\\python310\\lib\\site-packages (from nltk) (1.1.0)\n",
      "Requirement already satisfied: colorama in c:\\users\\administrador\\appdata\\local\\programs\\python\\python310\\lib\\site-packages (from click->nltk) (0.4.4)\n",
      "Note: you may need to restart the kernel to use updated packages.\n"
     ]
    }
   ],
   "source": [
    "pip install nltk"
   ]
  },
  {
   "cell_type": "code",
   "execution_count": 2,
   "id": "f6e078b9",
   "metadata": {},
   "outputs": [],
   "source": [
    "import nltk\n",
    "from pyspark import SparkContext"
   ]
  },
  {
   "cell_type": "code",
   "execution_count": 3,
   "id": "41b3d239",
   "metadata": {},
   "outputs": [
    {
     "name": "stderr",
     "output_type": "stream",
     "text": [
      "[nltk_data] Downloading package punkt to\n",
      "[nltk_data]     C:\\Users\\Administrador\\AppData\\Roaming\\nltk_data...\n"
     ]
    },
    {
     "name": "stdout",
     "output_type": "stream",
     "text": [
      "entro3\n"
     ]
    },
    {
     "name": "stderr",
     "output_type": "stream",
     "text": [
      "[nltk_data]   Package punkt is already up-to-date!\n",
      "[nltk_data] Downloading package averaged_perceptron_tagger to\n",
      "[nltk_data]     C:\\Users\\Administrador\\AppData\\Roaming\\nltk_data...\n",
      "[nltk_data]   Package averaged_perceptron_tagger is already up-to-\n",
      "[nltk_data]       date!\n"
     ]
    }
   ],
   "source": [
    "nltk.download(\"punkt\")\n",
    "nltk.download(\"averaged_perceptron_tagger\")\n",
    "print(\"entro3\")"
   ]
  },
  {
   "cell_type": "code",
   "execution_count": 4,
   "id": "1ea4cab5",
   "metadata": {},
   "outputs": [],
   "source": [
    "# Entry point for working with RDD\n",
    "sc = SparkContext(appName = \"pyspark-pos-analysis\")\n"
   ]
  },
  {
   "cell_type": "code",
   "execution_count": 5,
   "id": "5a39b330",
   "metadata": {},
   "outputs": [],
   "source": [
    "# Loading a text file\n",
    "rdd_reuters =sc.textFile(\"./data/reuters.txt\") \n",
    "\n",
    "    "
   ]
  },
  {
   "cell_type": "code",
   "execution_count": 6,
   "id": "7ace1d13-b379-4a5c-9b37-ee91a5c07412",
   "metadata": {},
   "outputs": [],
   "source": [
    "with open(\"./data/reuters.txt\",\"rt\") as f:\n",
    " \n",
    "  words =  nltk.word_tokenize(f.read())\n",
    " \n",
    " "
   ]
  },
  {
   "cell_type": "code",
   "execution_count": 7,
   "id": "954dbce6",
   "metadata": {},
   "outputs": [
    {
     "name": "stdout",
     "output_type": "stream",
     "text": [
      "['Banks', 'beware', ',', 'Amazon', 'and', 'Walmart', 'are', 'cracking', 'the', 'code', 'for', 'finance', 'LONDON', ',', 'Sept', '17', '(', 'Reuters', ')', '-', 'Anyone', 'can', 'be', 'a', 'banker', 'these', 'days', ',', 'you', 'just', 'need', 'the', 'right', 'code', '.', 'Global', 'brands', 'from', 'Mercedes', 'and', 'Amazon', '(', 'AMZN.O', ')', 'to', 'IKEA', 'and', 'Walmart', '(', 'WMT.N', ')', 'are', 'cutting', 'out', 'the', 'traditional', 'financial', 'middleman', 'and', 'plugging', 'in', 'software', 'from', 'tech', 'startups', 'to', 'offer', 'customers', 'everything', 'from', 'banking', 'and', 'credit', 'to', 'insurance', '.', 'For', 'established', 'financial', 'institutions', ',', 'the', 'warning', 'signs', 'are', 'flashing', '.', 'So-called', 'embedded', 'finance', '-', 'a', 'fancy', 'term', 'for', 'companies', 'integrating', 'software', 'to', 'offer', 'financial', 'services', '-', 'means', 'Amazon', 'can', 'let', 'customers', '``', 'buy', 'now', 'pay', 'later', \"''\", 'when', 'they', 'check', 'out', 'and', 'Mercedes', 'drivers', 'can', 'get', 'their', 'cars', 'to', 'pay', 'for', 'their', 'fuel', '.', 'To', 'be', 'sure', ',', 'banks', 'are', 'still', 'behind', 'most', 'of', 'the', 'transactions', 'but', 'investors', 'and', 'analysts', 'say', 'the', 'risk', 'for', 'traditional', 'lenders', 'is', 'that', 'they', 'will', 'get', 'pushed', 'further', 'away', 'from', 'the', 'front', 'end', 'of', 'the', 'finance', 'chain', '.', 'And', 'that', 'means', 'they', \"'ll\", 'be', 'further', 'away', 'from', 'the', 'mountains', 'of', 'data', 'others', 'are', 'hoovering', 'up', 'about', 'the', 'preferences', 'and', 'behaviours', 'of', 'their', 'customers', '-', 'data', 'that', 'could', 'be', 'crucial', 'in', 'giving', 'them', 'an', 'edge', 'over', 'banks', 'in', 'financial', 'services', '.', '``', 'Embedded', 'financial', 'services', 'takes', 'the', 'cross-sell', 'concept', 'to', 'new', 'heights', '.', 'It', \"'s\", 'predicated', 'on', 'a', 'deep', 'software-based', 'ongoing', 'data', 'relationship', 'with', 'the', 'consumer', 'and', 'business', ',', \"''\", 'said', 'Matt', 'Harris', ',', 'a', 'partner', 'at', 'investor', 'Bain', 'Capital', 'Ventures', '.', '``', 'That', 'is', 'why', 'this', 'revolution', 'is', 'so', 'important', ',', \"''\", 'he', 'said', '.', '``', 'It', 'means', 'that', 'all', 'the', 'good', 'risk', 'is', 'going', 'to', 'go', 'to', 'these', 'embedded', 'companies', 'that', 'know', 'so', 'much', 'about', 'their', 'customers', 'and', 'what', 'is', 'left', 'over', 'will', 'go', 'to', 'banks', 'and', 'insurance', 'companies', '.', \"''\", 'WHERE', 'DO', 'YOU', 'WANT', 'TO', 'PLAY', '?', 'For', 'now', ',', 'many', 'areas', 'of', 'embedded', 'finance', 'are', 'barely', 'denting', 'the', 'dominance', 'of', 'banks', 'and', 'even', 'though', 'some', 'upstarts', 'have', 'licences', 'to', 'offer', 'regulated', 'services', 'such', 'as', 'lending', ',', 'they', 'lack', 'the', 'scale', 'and', 'deep', 'funding', 'pools', 'of', 'the', 'biggest', 'banks', '.', 'But', 'if', 'financial', 'technology', 'firms', ',', 'or', 'fintechs', ',', 'can', 'match', 'their', 'success', 'in', 'grabbing', 'a', 'chunk', 'of', 'digital', 'payments', 'from', 'banks', '-', 'and', 'boosting', 'their', 'valuations', 'in', 'the', 'process', '-', 'lenders', 'may', 'have', 'to', 'respond', ',', 'analysts', 'say', '.', 'Stripe', ',', 'for', 'example', ',', 'the', 'payments', 'platform', 'behind', 'many', 'sites', 'with', 'clients', 'including', 'Amazon', 'and', 'Alphabet', \"'s\", '(', 'GOOGL.O', ')', 'Google', ',', 'was', 'valued', 'at', '$', '95', 'billion', 'in', 'March', '.', 'Accenture', 'estimated', 'in', '2019', 'that', 'new', 'entrants', 'to', 'the', 'payments', 'market', 'had', 'amassed', '8', '%', 'of', 'revenues', 'globally', '-', 'and', 'that', 'share', 'has', 'risen', 'over', 'the', 'past', 'year', 'as', 'the', 'pandemic', 'boosted', 'digital', 'payments', 'and', 'hit', 'traditional', 'payments', ',', 'Alan', 'McIntyre', ',', 'senior', 'banking', 'industry', 'director', 'at', 'Accenture', ',', 'said', '.', 'Now', 'the', 'focus', 'is', 'turning', 'to', 'lending', ',', 'as', 'well', 'as', 'complete', 'off-the-shelf', 'digital', 'lenders', 'with', 'a', 'variety', 'of', 'products', 'businesses', 'can', 'pick', 'and', 'choose', 'to', 'embed', 'in', 'their', 'processes', '.', '``', 'The', 'vast', 'majority', 'of', 'consumer', 'centric', 'companies', 'will', 'be', 'able', 'to', 'launch', 'financial', 'products', 'that', 'will', 'allow', 'them', 'to', 'significantly', 'improve', 'their', 'customer', 'experience', ',', \"''\", 'said', 'Luca', 'Bocchio', ',', 'partner', 'at', 'venture', 'capital', 'firm', 'Accel', '.', '``', 'That', 'is', 'why', 'we', 'feel', 'excited', 'about', 'this', 'space', '.', \"''\", 'So', 'far', 'this', 'year', ',', 'investors', 'have', 'poured', '$', '4.25', 'billion', 'into', 'embedded', 'finance', 'startups', ',', 'almost', 'three', 'times', 'the', 'amount', 'in', '2020', ',', 'data', 'provided', 'to', 'Reuters', 'by', 'PitchBook', 'shows', '.', 'Leading', 'the', 'way', 'is', 'Swedish', 'buy', 'now', 'pay', 'later', '(', 'BNPL', ')', 'firm', 'Klarna', 'which', 'raised', '$', '1.9', 'billion', '.', 'DriveWealth', ',', 'which', 'sells', 'technology', 'allowing', 'companies', 'to', 'offer', 'fractional', 'share', 'trading', ',', 'attracted', '$', '459', 'million', 'while', 'investors', 'put', '$', '229', 'million', 'into', 'Solarisbank', ',', 'a', 'licensed', 'German', 'digital', 'bank', 'which', 'offers', 'an', 'array', 'of', 'banking', 'services', 'software', '.', 'Shares', 'in', 'Affirm', '(', 'AFRM.O', ')', ',', 'meanwhile', ',', 'surged', 'last', 'month', 'when', 'it', 'teamed', 'up', 'with', 'Amazon', 'to', 'offer', 'BNPL', 'products', 'while', 'rival', 'U.S.', 'fintech', 'Square', '(', 'SQ.N', ')', 'said', 'last', 'month', 'it', 'was', 'buying', 'Australian', 'BNPL', 'firm', 'Afterpay', '(', 'APT.AX', ')', 'for', '$', '29', 'billion', '.', 'Square', 'is', 'now', 'worth', '$', '113', 'billion', ',', 'more', 'than', 'Europe', \"'s\", 'most', 'valuable', 'bank', ',', 'HSBC', '(', 'HSBA.L', ')', ',', 'on', '$', '105', 'billion', '.', '``', 'Big', 'banks', 'and', 'insurers', 'will', 'lose', 'out', 'if', 'they', 'do', \"n't\", 'act', 'quickly', 'and', 'work', 'out', 'where', 'to', 'play', 'in', 'this', 'market', ',', \"''\", 'said', 'Simon', 'Torrance', ',', 'founder', 'of', 'Embedded', 'Finance', '&', 'Super', 'App', 'Strategies', '.', 'YOU', 'NEED', 'A', 'LOAN', '!', 'Several', 'other', 'retailers', 'have', 'announced', 'plans', 'this', 'year', 'to', 'expand', 'in', 'financial', 'services', '.', 'Walmart', 'launched', 'a', 'fintech', 'startup', 'with', 'investment', 'firm', 'Ribbit', 'Capital', 'in', 'January', 'to', 'develop', 'financial', 'products', 'for', 'its', 'employees', 'and', 'customers', 'while', 'IKEA', 'took', 'a', 'minority', 'stake', 'in', 'BNPL', 'firm', 'Jifiti', 'last', 'month', '.', 'Automakers', 'such', 'as', 'Volkswagen', \"'s\", '(', 'VOWG_p.DE', ')', 'Audi', 'and', 'Tata', \"'s\", '(', 'TAMO.NS', ')', 'Jaguar', 'Land', 'Rover', 'have', 'experimented', 'with', 'embedding', 'payment', 'technology', 'in', 'their', 'vehicles', 'to', 'take', 'the', 'hassle', 'out', 'of', 'paying', ',', 'besides', 'Daimler', \"'s\", '(', 'DAIGn.DE', ')', 'Mercedes', '.', '``', 'Customers', 'expect', 'services', ',', 'including', 'financial', 'services', ',', 'to', 'be', 'directly', 'integrated', 'at', 'the', 'point', 'of', 'consumption', ',', 'and', 'to', 'be', 'convenient', ',', 'digital', ',', 'and', 'immediately', 'accessible', ',', \"''\", 'said', 'Roland', 'Folz', ',', 'chief', 'executive', 'of', 'Solarisbank', 'which', 'provides', 'banking', 'services', 'to', 'more', 'than', '50', 'companies', 'including', 'Samsung', '.', 'It', \"'s\", 'not', 'just', 'end', 'consumers', 'being', 'targeted', 'by', 'embedded', 'finance', 'startups', '.', 'Businesses', 'themselves', 'are', 'being', 'tapped', 'on', 'the', 'shoulder', 'as', 'their', 'digital', 'data', 'is', 'crunched', 'by', 'fintechs', 'such', 'as', 'Canada', \"'s\", 'Shopify', '(', 'SHOP.TO', ')', '.', 'It', 'provides', 'software', 'for', 'merchants', 'and', 'its', 'Shopify', 'Capital', 'division', 'also', 'offers', 'cash', 'advances', ',', 'based', 'on', 'an', 'analysis', 'of', 'more', 'than', '70', 'million', 'data', 'points', 'across', 'its', 'platform', '.', '``', 'No', 'merchant', 'comes', 'to', 'us', 'and', 'says', ',', 'I', 'would', 'like', 'a', 'loan', '.', 'We', 'go', 'to', 'merchants', 'and', 'say', ',', 'we', 'think', 'it', \"'s\", 'time', 'for', 'funding', 'for', 'you', ',', \"''\", 'said', 'Kaz', 'Nejatian', ',', 'vice', 'president', ',', 'product', ',', 'merchant', 'services', 'at', 'Shopify', '.', '``', 'We', 'do', \"n't\", 'ask', 'for', 'business', 'plans', ',', 'we', 'do', \"n't\", 'ask', 'for', 'tax', 'statements', ',', 'we', 'do', \"n't\", 'ask', 'for', 'income', 'statements', ',', 'and', 'we', 'do', \"n't\", 'ask', 'for', 'personal', 'guarantees', '.', 'Not', 'because', 'we', 'are', 'benevolent', 'but', 'because', 'we', 'think', 'those', 'are', 'bad', 'signals', 'into', 'the', 'odds', 'of', 'success', 'on', 'the', 'internet', ',', \"''\", 'he', 'said', '.', 'A', 'Shopify', 'spokesperson', 'said', 'funding', 'goes', 'from', '$', '200', 'to', '$', '2', 'million', '.', 'It', 'has', 'provided', '$', '2.3', 'billion', 'in', 'cumulative', 'capital', 'advances', 'and', 'is', 'valued', 'at', '$', '184', 'billion', ',', 'well', 'above', 'Royal', 'Bank', 'of', 'Canada', '(', 'RY.TO', ')', ',', 'the', 'country', \"'s\", 'biggest', 'traditional', 'lender', '.', 'CONNECTED', 'FUTURE', '?', 'Shopify', \"'s\", 'lending', 'business', 'is', ',', 'however', ',', 'still', 'dwarfed', 'by', 'the', 'big', 'banks', '.', 'JPMorgan', 'Chase', '&', 'Co', '(', 'JPM.N', ')', ',', 'for', 'example', ',', 'had', 'a', 'consumer', 'and', 'community', 'loan', 'book', 'worth', '$', '435', 'billion', 'at', 'the', 'end', 'of', 'June', '.', 'Major', 'advances', 'into', 'finance', 'by', 'companies', 'from', 'other', 'sectors', 'could', 'also', 'be', 'limited', 'by', 'regulators', '.', 'Officials', 'from', 'the', 'Bank', 'for', 'International', 'Settlements', ',', 'a', 'consortium', 'of', 'central', 'banks', 'and', 'financial', 'regulators', ',', 'warned', 'watchdogs', 'last', 'month', 'to', 'get', 'to', 'grips', 'with', 'the', 'growing', 'influence', 'of', 'technology', 'firms', 'in', 'finance', '.', 'read', 'more', 'Bain', \"'s\", 'Harris', 'said', 'financial', 'regulators', 'were', 'taking', 'the', 'approach', 'that', 'because', 'they', 'do', \"n't\", 'know', 'how', 'to', 'regulate', 'tech', 'firms', 'they', 'are', 'insisting', 'there', \"'s\", 'a', 'bank', 'behind', 'every', 'transaction', '-', 'but', 'that', 'did', 'not', 'mean', 'banks', 'would', 'prevent', 'fintechs', 'encroaching', '.', '``', 'They', 'are', 'right', 'that', 'the', 'banks', 'will', 'always', 'have', 'a', 'role', 'but', 'it', \"'s\", 'not', 'a', 'very', 'remunerative', 'role', 'and', 'it', 'involves', 'very', 'little', 'ownership', 'of', 'the', 'customer', ',', \"''\", 'he', 'said', '.', 'Forrester', 'analyst', 'Jacob', 'Morgan', 'said', 'banks', 'had', 'to', 'decide', 'where', 'they', 'want', 'to', 'be', 'in', 'the', 'finance', 'chain', '.', '``', 'Can', 'they', 'afford', 'to', 'fight', 'for', 'customer', 'primacy', ',', 'or', 'do', 'they', 'actually', 'see', 'a', 'more', 'profitable', 'route', 'to', 'market', 'to', 'become', 'the', 'rails', 'that', 'other', 'people', 'run', 'on', 'top', 'of', '?', \"''\", 'he', 'said', '.', '``', 'Some', 'banks', 'will', 'choose', 'to', 'do', 'both', '.', \"''\", 'And', 'some', 'are', 'already', 'fighting', 'back', '.', 'Citigroup', '(', 'C.N', ')', 'has', 'teamed', 'up', 'with', 'Google', 'on', 'bank', 'accounts', ',', 'Goldman', 'Sachs', '(', 'GS.N', ')', 'is', 'providing', 'credit', 'cards', 'for', 'Apple', '(', 'AAPL.O', ')', 'and', 'JPMorgan', 'is', 'buying', '75', '%', 'of', 'Volkswagen', \"'s\", 'payments', 'business', 'and', 'plans', 'to', 'expand', 'to', 'other', 'industries', '.', 'read', 'more', '06:00:00', \"''\", 'Connectivity', 'between', 'different', 'systems', 'is', 'the', 'future', ',', \"''\", 'said', 'Shahrokh', 'Moinian', ',', 'head', 'of', 'wholesale', 'payments', ',', 'EMEA', ',', 'at', 'JPMorgan', '.', '``', 'We', 'want', 'to', 'be', 'the', 'leader', '.', \"''\"]\n"
     ]
    }
   ],
   "source": [
    "print(words)"
   ]
  },
  {
   "cell_type": "code",
   "execution_count": 8,
   "id": "612e7ca6",
   "metadata": {},
   "outputs": [
    {
     "name": "stdout",
     "output_type": "stream",
     "text": [
      "[('Banks', 'NNS'), ('beware', 'NN'), (',', ','), ('Amazon', 'NNP'), ('and', 'CC'), ('Walmart', 'NNP'), ('are', 'VBP'), ('cracking', 'VBG'), ('the', 'DT'), ('code', 'NN'), ('for', 'IN'), ('finance', 'NN'), ('LONDON', 'NNP'), (',', ','), ('Sept', 'NNP'), ('17', 'CD'), ('(', '('), ('Reuters', 'NNPS'), (')', ')'), ('-', ':'), ('Anyone', 'NN'), ('can', 'MD'), ('be', 'VB'), ('a', 'DT'), ('banker', 'NN'), ('these', 'DT'), ('days', 'NNS'), (',', ','), ('you', 'PRP'), ('just', 'RB'), ('need', 'VB'), ('the', 'DT'), ('right', 'JJ'), ('code', 'NN'), ('.', '.'), ('Global', 'NNP'), ('brands', 'VBZ'), ('from', 'IN'), ('Mercedes', 'NNP'), ('and', 'CC'), ('Amazon', 'NNP'), ('(', '('), ('AMZN.O', 'NNP'), (')', ')'), ('to', 'TO'), ('IKEA', 'NNP'), ('and', 'CC'), ('Walmart', 'NNP'), ('(', '('), ('WMT.N', 'NNP'), (')', ')'), ('are', 'VBP'), ('cutting', 'VBG'), ('out', 'RP'), ('the', 'DT'), ('traditional', 'JJ'), ('financial', 'JJ'), ('middleman', 'NN'), ('and', 'CC'), ('plugging', 'NN'), ('in', 'IN'), ('software', 'NN'), ('from', 'IN'), ('tech', 'NN'), ('startups', 'NNS'), ('to', 'TO'), ('offer', 'VB'), ('customers', 'NNS'), ('everything', 'NN'), ('from', 'IN'), ('banking', 'NN'), ('and', 'CC'), ('credit', 'NN'), ('to', 'TO'), ('insurance', 'NN'), ('.', '.'), ('For', 'IN'), ('established', 'VBN'), ('financial', 'JJ'), ('institutions', 'NNS'), (',', ','), ('the', 'DT'), ('warning', 'NN'), ('signs', 'NNS'), ('are', 'VBP'), ('flashing', 'VBG'), ('.', '.'), ('So-called', 'NNP'), ('embedded', 'VBD'), ('finance', 'NN'), ('-', ':'), ('a', 'DT'), ('fancy', 'JJ'), ('term', 'NN'), ('for', 'IN'), ('companies', 'NNS'), ('integrating', 'VBG'), ('software', 'NN'), ('to', 'TO'), ('offer', 'VB'), ('financial', 'JJ'), ('services', 'NNS'), ('-', ':'), ('means', 'VBZ'), ('Amazon', 'NNP'), ('can', 'MD'), ('let', 'VB'), ('customers', 'NNS'), ('``', '``'), ('buy', 'VB'), ('now', 'RB'), ('pay', 'VBP'), ('later', 'RB'), (\"''\", \"''\"), ('when', 'WRB'), ('they', 'PRP'), ('check', 'VBP'), ('out', 'RP'), ('and', 'CC'), ('Mercedes', 'NNP'), ('drivers', 'NNS'), ('can', 'MD'), ('get', 'VB'), ('their', 'PRP$'), ('cars', 'NNS'), ('to', 'TO'), ('pay', 'VB'), ('for', 'IN'), ('their', 'PRP$'), ('fuel', 'NN'), ('.', '.'), ('To', 'TO'), ('be', 'VB'), ('sure', 'JJ'), (',', ','), ('banks', 'NNS'), ('are', 'VBP'), ('still', 'RB'), ('behind', 'IN'), ('most', 'JJS'), ('of', 'IN'), ('the', 'DT'), ('transactions', 'NNS'), ('but', 'CC'), ('investors', 'NNS'), ('and', 'CC'), ('analysts', 'NNS'), ('say', 'VBP'), ('the', 'DT'), ('risk', 'NN'), ('for', 'IN'), ('traditional', 'JJ'), ('lenders', 'NNS'), ('is', 'VBZ'), ('that', 'IN'), ('they', 'PRP'), ('will', 'MD'), ('get', 'VB'), ('pushed', 'VBN'), ('further', 'RB'), ('away', 'RB'), ('from', 'IN'), ('the', 'DT'), ('front', 'JJ'), ('end', 'NN'), ('of', 'IN'), ('the', 'DT'), ('finance', 'NN'), ('chain', 'NN'), ('.', '.'), ('And', 'CC'), ('that', 'DT'), ('means', 'VBZ'), ('they', 'PRP'), (\"'ll\", 'MD'), ('be', 'VB'), ('further', 'RB'), ('away', 'RB'), ('from', 'IN'), ('the', 'DT'), ('mountains', 'NNS'), ('of', 'IN'), ('data', 'NNS'), ('others', 'NNS'), ('are', 'VBP'), ('hoovering', 'VBG'), ('up', 'RP'), ('about', 'IN'), ('the', 'DT'), ('preferences', 'NNS'), ('and', 'CC'), ('behaviours', 'NNS'), ('of', 'IN'), ('their', 'PRP$'), ('customers', 'NNS'), ('-', ':'), ('data', 'NNS'), ('that', 'WDT'), ('could', 'MD'), ('be', 'VB'), ('crucial', 'JJ'), ('in', 'IN'), ('giving', 'VBG'), ('them', 'PRP'), ('an', 'DT'), ('edge', 'NN'), ('over', 'IN'), ('banks', 'NNS'), ('in', 'IN'), ('financial', 'JJ'), ('services', 'NNS'), ('.', '.'), ('``', '``'), ('Embedded', 'VBD'), ('financial', 'JJ'), ('services', 'NNS'), ('takes', 'VBZ'), ('the', 'DT'), ('cross-sell', 'NN'), ('concept', 'NN'), ('to', 'TO'), ('new', 'JJ'), ('heights', 'NNS'), ('.', '.'), ('It', 'PRP'), (\"'s\", 'VBZ'), ('predicated', 'VBN'), ('on', 'IN'), ('a', 'DT'), ('deep', 'JJ'), ('software-based', 'JJ'), ('ongoing', 'JJ'), ('data', 'NNS'), ('relationship', 'NN'), ('with', 'IN'), ('the', 'DT'), ('consumer', 'NN'), ('and', 'CC'), ('business', 'NN'), (',', ','), (\"''\", \"''\"), ('said', 'VBD'), ('Matt', 'NNP'), ('Harris', 'NNP'), (',', ','), ('a', 'DT'), ('partner', 'NN'), ('at', 'IN'), ('investor', 'NN'), ('Bain', 'NNP'), ('Capital', 'NNP'), ('Ventures', 'NNP'), ('.', '.'), ('``', '``'), ('That', 'DT'), ('is', 'VBZ'), ('why', 'WRB'), ('this', 'DT'), ('revolution', 'NN'), ('is', 'VBZ'), ('so', 'RB'), ('important', 'JJ'), (',', ','), (\"''\", \"''\"), ('he', 'PRP'), ('said', 'VBD'), ('.', '.'), ('``', '``'), ('It', 'PRP'), ('means', 'VBZ'), ('that', 'IN'), ('all', 'PDT'), ('the', 'DT'), ('good', 'JJ'), ('risk', 'NN'), ('is', 'VBZ'), ('going', 'VBG'), ('to', 'TO'), ('go', 'VB'), ('to', 'TO'), ('these', 'DT'), ('embedded', 'VBN'), ('companies', 'NNS'), ('that', 'WDT'), ('know', 'VBP'), ('so', 'RB'), ('much', 'JJ'), ('about', 'IN'), ('their', 'PRP$'), ('customers', 'NNS'), ('and', 'CC'), ('what', 'WP'), ('is', 'VBZ'), ('left', 'VBN'), ('over', 'RP'), ('will', 'MD'), ('go', 'VB'), ('to', 'TO'), ('banks', 'NNS'), ('and', 'CC'), ('insurance', 'NN'), ('companies', 'NNS'), ('.', '.'), (\"''\", \"''\"), ('WHERE', 'WRB'), ('DO', 'NNP'), ('YOU', 'NNP'), ('WANT', 'NNP'), ('TO', 'NNP'), ('PLAY', 'NNP'), ('?', '.'), ('For', 'IN'), ('now', 'RB'), (',', ','), ('many', 'JJ'), ('areas', 'NNS'), ('of', 'IN'), ('embedded', 'VBN'), ('finance', 'NN'), ('are', 'VBP'), ('barely', 'RB'), ('denting', 'VBG'), ('the', 'DT'), ('dominance', 'NN'), ('of', 'IN'), ('banks', 'NNS'), ('and', 'CC'), ('even', 'RB'), ('though', 'IN'), ('some', 'DT'), ('upstarts', 'NNS'), ('have', 'VBP'), ('licences', 'NNS'), ('to', 'TO'), ('offer', 'VB'), ('regulated', 'JJ'), ('services', 'NNS'), ('such', 'JJ'), ('as', 'IN'), ('lending', 'NN'), (',', ','), ('they', 'PRP'), ('lack', 'VBP'), ('the', 'DT'), ('scale', 'NN'), ('and', 'CC'), ('deep', 'JJ'), ('funding', 'NN'), ('pools', 'NNS'), ('of', 'IN'), ('the', 'DT'), ('biggest', 'JJS'), ('banks', 'NNS'), ('.', '.'), ('But', 'CC'), ('if', 'IN'), ('financial', 'JJ'), ('technology', 'NN'), ('firms', 'NNS'), (',', ','), ('or', 'CC'), ('fintechs', 'NNS'), (',', ','), ('can', 'MD'), ('match', 'VB'), ('their', 'PRP$'), ('success', 'NN'), ('in', 'IN'), ('grabbing', 'VBG'), ('a', 'DT'), ('chunk', 'NN'), ('of', 'IN'), ('digital', 'JJ'), ('payments', 'NNS'), ('from', 'IN'), ('banks', 'NNS'), ('-', ':'), ('and', 'CC'), ('boosting', 'VBG'), ('their', 'PRP$'), ('valuations', 'NNS'), ('in', 'IN'), ('the', 'DT'), ('process', 'NN'), ('-', ':'), ('lenders', 'NNS'), ('may', 'MD'), ('have', 'VB'), ('to', 'TO'), ('respond', 'VB'), (',', ','), ('analysts', 'NNS'), ('say', 'VBP'), ('.', '.'), ('Stripe', 'NNP'), (',', ','), ('for', 'IN'), ('example', 'NN'), (',', ','), ('the', 'DT'), ('payments', 'NNS'), ('platform', 'VBP'), ('behind', 'IN'), ('many', 'JJ'), ('sites', 'NNS'), ('with', 'IN'), ('clients', 'NNS'), ('including', 'VBG'), ('Amazon', 'NNP'), ('and', 'CC'), ('Alphabet', 'NNP'), (\"'s\", 'POS'), ('(', '('), ('GOOGL.O', 'NNP'), (')', ')'), ('Google', 'NNP'), (',', ','), ('was', 'VBD'), ('valued', 'VBN'), ('at', 'IN'), ('$', '$'), ('95', 'CD'), ('billion', 'CD'), ('in', 'IN'), ('March', 'NNP'), ('.', '.'), ('Accenture', 'NNP'), ('estimated', 'VBN'), ('in', 'IN'), ('2019', 'CD'), ('that', 'IN'), ('new', 'JJ'), ('entrants', 'NNS'), ('to', 'TO'), ('the', 'DT'), ('payments', 'NNS'), ('market', 'NN'), ('had', 'VBD'), ('amassed', 'VBN'), ('8', 'CD'), ('%', 'NN'), ('of', 'IN'), ('revenues', 'NNS'), ('globally', 'RB'), ('-', ':'), ('and', 'CC'), ('that', 'DT'), ('share', 'NN'), ('has', 'VBZ'), ('risen', 'VBN'), ('over', 'IN'), ('the', 'DT'), ('past', 'JJ'), ('year', 'NN'), ('as', 'IN'), ('the', 'DT'), ('pandemic', 'JJ'), ('boosted', 'VBD'), ('digital', 'JJ'), ('payments', 'NNS'), ('and', 'CC'), ('hit', 'VBD'), ('traditional', 'JJ'), ('payments', 'NNS'), (',', ','), ('Alan', 'NNP'), ('McIntyre', 'NNP'), (',', ','), ('senior', 'JJ'), ('banking', 'NN'), ('industry', 'NN'), ('director', 'NN'), ('at', 'IN'), ('Accenture', 'NNP'), (',', ','), ('said', 'VBD'), ('.', '.'), ('Now', 'RB'), ('the', 'DT'), ('focus', 'NN'), ('is', 'VBZ'), ('turning', 'VBG'), ('to', 'TO'), ('lending', 'NN'), (',', ','), ('as', 'RB'), ('well', 'RB'), ('as', 'IN'), ('complete', 'JJ'), ('off-the-shelf', 'JJ'), ('digital', 'JJ'), ('lenders', 'NNS'), ('with', 'IN'), ('a', 'DT'), ('variety', 'NN'), ('of', 'IN'), ('products', 'NNS'), ('businesses', 'NNS'), ('can', 'MD'), ('pick', 'VB'), ('and', 'CC'), ('choose', 'VB'), ('to', 'TO'), ('embed', 'VB'), ('in', 'IN'), ('their', 'PRP$'), ('processes', 'NNS'), ('.', '.'), ('``', '``'), ('The', 'DT'), ('vast', 'JJ'), ('majority', 'NN'), ('of', 'IN'), ('consumer', 'NN'), ('centric', 'NN'), ('companies', 'NNS'), ('will', 'MD'), ('be', 'VB'), ('able', 'JJ'), ('to', 'TO'), ('launch', 'VB'), ('financial', 'JJ'), ('products', 'NNS'), ('that', 'WDT'), ('will', 'MD'), ('allow', 'VB'), ('them', 'PRP'), ('to', 'TO'), ('significantly', 'RB'), ('improve', 'VB'), ('their', 'PRP$'), ('customer', 'NN'), ('experience', 'NN'), (',', ','), (\"''\", \"''\"), ('said', 'VBD'), ('Luca', 'NNP'), ('Bocchio', 'NNP'), (',', ','), ('partner', 'NN'), ('at', 'IN'), ('venture', 'NN'), ('capital', 'NN'), ('firm', 'NN'), ('Accel', 'NNP'), ('.', '.'), ('``', '``'), ('That', 'DT'), ('is', 'VBZ'), ('why', 'WRB'), ('we', 'PRP'), ('feel', 'VBP'), ('excited', 'VBN'), ('about', 'IN'), ('this', 'DT'), ('space', 'NN'), ('.', '.'), (\"''\", \"''\"), ('So', 'RB'), ('far', 'RB'), ('this', 'DT'), ('year', 'NN'), (',', ','), ('investors', 'NNS'), ('have', 'VBP'), ('poured', 'VBN'), ('$', '$'), ('4.25', 'CD'), ('billion', 'CD'), ('into', 'IN'), ('embedded', 'VBN'), ('finance', 'NN'), ('startups', 'NN'), (',', ','), ('almost', 'RB'), ('three', 'CD'), ('times', 'NNS'), ('the', 'DT'), ('amount', 'NN'), ('in', 'IN'), ('2020', 'CD'), (',', ','), ('data', 'NNS'), ('provided', 'VBD'), ('to', 'TO'), ('Reuters', 'NNS'), ('by', 'IN'), ('PitchBook', 'NNP'), ('shows', 'NNS'), ('.', '.'), ('Leading', 'VBG'), ('the', 'DT'), ('way', 'NN'), ('is', 'VBZ'), ('Swedish', 'JJ'), ('buy', 'NN'), ('now', 'RB'), ('pay', 'VBP'), ('later', 'RB'), ('(', '('), ('BNPL', 'NNP'), (')', ')'), ('firm', 'NN'), ('Klarna', 'NNP'), ('which', 'WDT'), ('raised', 'VBD'), ('$', '$'), ('1.9', 'CD'), ('billion', 'CD'), ('.', '.'), ('DriveWealth', 'NNP'), (',', ','), ('which', 'WDT'), ('sells', 'VBZ'), ('technology', 'NN'), ('allowing', 'VBG'), ('companies', 'NNS'), ('to', 'TO'), ('offer', 'VB'), ('fractional', 'JJ'), ('share', 'NN'), ('trading', 'NN'), (',', ','), ('attracted', 'VBD'), ('$', '$'), ('459', 'CD'), ('million', 'CD'), ('while', 'IN'), ('investors', 'NNS'), ('put', 'VBD'), ('$', '$'), ('229', 'CD'), ('million', 'CD'), ('into', 'IN'), ('Solarisbank', 'NNP'), (',', ','), ('a', 'DT'), ('licensed', 'JJ'), ('German', 'JJ'), ('digital', 'NN'), ('bank', 'NN'), ('which', 'WDT'), ('offers', 'VBZ'), ('an', 'DT'), ('array', 'NN'), ('of', 'IN'), ('banking', 'NN'), ('services', 'NNS'), ('software', 'NN'), ('.', '.'), ('Shares', 'VBZ'), ('in', 'IN'), ('Affirm', 'NNP'), ('(', '('), ('AFRM.O', 'NNP'), (')', ')'), (',', ','), ('meanwhile', 'RB'), (',', ','), ('surged', 'VBD'), ('last', 'JJ'), ('month', 'NN'), ('when', 'WRB'), ('it', 'PRP'), ('teamed', 'VBD'), ('up', 'RP'), ('with', 'IN'), ('Amazon', 'NNP'), ('to', 'TO'), ('offer', 'VB'), ('BNPL', 'NNP'), ('products', 'NNS'), ('while', 'IN'), ('rival', 'JJ'), ('U.S.', 'NNP'), ('fintech', 'NN'), ('Square', 'NNP'), ('(', '('), ('SQ.N', 'NNP'), (')', ')'), ('said', 'VBD'), ('last', 'JJ'), ('month', 'NN'), ('it', 'PRP'), ('was', 'VBD'), ('buying', 'VBG'), ('Australian', 'JJ'), ('BNPL', 'NNP'), ('firm', 'NN'), ('Afterpay', 'NNP'), ('(', '('), ('APT.AX', 'NNP'), (')', ')'), ('for', 'IN'), ('$', '$'), ('29', 'CD'), ('billion', 'CD'), ('.', '.'), ('Square', 'NNP'), ('is', 'VBZ'), ('now', 'RB'), ('worth', 'JJ'), ('$', '$'), ('113', 'CD'), ('billion', 'CD'), (',', ','), ('more', 'JJR'), ('than', 'IN'), ('Europe', 'NNP'), (\"'s\", 'POS'), ('most', 'RBS'), ('valuable', 'JJ'), ('bank', 'NN'), (',', ','), ('HSBC', 'NNP'), ('(', '('), ('HSBA.L', 'NNP'), (')', ')'), (',', ','), ('on', 'IN'), ('$', '$'), ('105', 'CD'), ('billion', 'CD'), ('.', '.'), ('``', '``'), ('Big', 'JJ'), ('banks', 'NNS'), ('and', 'CC'), ('insurers', 'NNS'), ('will', 'MD'), ('lose', 'VB'), ('out', 'RP'), ('if', 'IN'), ('they', 'PRP'), ('do', 'VBP'), (\"n't\", 'RB'), ('act', 'VB'), ('quickly', 'RB'), ('and', 'CC'), ('work', 'VB'), ('out', 'RB'), ('where', 'WRB'), ('to', 'TO'), ('play', 'VB'), ('in', 'IN'), ('this', 'DT'), ('market', 'NN'), (',', ','), (\"''\", \"''\"), ('said', 'VBD'), ('Simon', 'NNP'), ('Torrance', 'NNP'), (',', ','), ('founder', 'NN'), ('of', 'IN'), ('Embedded', 'NNP'), ('Finance', 'NNP'), ('&', 'CC'), ('Super', 'NNP'), ('App', 'NNP'), ('Strategies', 'NNP'), ('.', '.'), ('YOU', 'NNP'), ('NEED', 'VBP'), ('A', 'DT'), ('LOAN', 'NNP'), ('!', '.'), ('Several', 'NNP'), ('other', 'JJ'), ('retailers', 'NNS'), ('have', 'VBP'), ('announced', 'VBN'), ('plans', 'NNS'), ('this', 'DT'), ('year', 'NN'), ('to', 'TO'), ('expand', 'VB'), ('in', 'IN'), ('financial', 'JJ'), ('services', 'NNS'), ('.', '.'), ('Walmart', 'NNP'), ('launched', 'VBD'), ('a', 'DT'), ('fintech', 'JJ'), ('startup', 'NN'), ('with', 'IN'), ('investment', 'NN'), ('firm', 'NN'), ('Ribbit', 'NNP'), ('Capital', 'NNP'), ('in', 'IN'), ('January', 'NNP'), ('to', 'TO'), ('develop', 'VB'), ('financial', 'JJ'), ('products', 'NNS'), ('for', 'IN'), ('its', 'PRP$'), ('employees', 'NNS'), ('and', 'CC'), ('customers', 'NNS'), ('while', 'IN'), ('IKEA', 'NNP'), ('took', 'VBD'), ('a', 'DT'), ('minority', 'NN'), ('stake', 'NN'), ('in', 'IN'), ('BNPL', 'NNP'), ('firm', 'NN'), ('Jifiti', 'NNP'), ('last', 'JJ'), ('month', 'NN'), ('.', '.'), ('Automakers', 'NNS'), ('such', 'JJ'), ('as', 'IN'), ('Volkswagen', 'NN'), (\"'s\", 'POS'), ('(', '('), ('VOWG_p.DE', 'NNP'), (')', ')'), ('Audi', 'NNP'), ('and', 'CC'), ('Tata', 'NNP'), (\"'s\", 'POS'), ('(', '('), ('TAMO.NS', 'NNP'), (')', ')'), ('Jaguar', 'NNP'), ('Land', 'NNP'), ('Rover', 'NNP'), ('have', 'VBP'), ('experimented', 'VBN'), ('with', 'IN'), ('embedding', 'VBG'), ('payment', 'NN'), ('technology', 'NN'), ('in', 'IN'), ('their', 'PRP$'), ('vehicles', 'NNS'), ('to', 'TO'), ('take', 'VB'), ('the', 'DT'), ('hassle', 'NN'), ('out', 'IN'), ('of', 'IN'), ('paying', 'VBG'), (',', ','), ('besides', 'IN'), ('Daimler', 'NNP'), (\"'s\", 'POS'), ('(', '('), ('DAIGn.DE', 'NNP'), (')', ')'), ('Mercedes', 'NNP'), ('.', '.'), ('``', '``'), ('Customers', 'NNP'), ('expect', 'VBP'), ('services', 'NNS'), (',', ','), ('including', 'VBG'), ('financial', 'JJ'), ('services', 'NNS'), (',', ','), ('to', 'TO'), ('be', 'VB'), ('directly', 'RB'), ('integrated', 'VBN'), ('at', 'IN'), ('the', 'DT'), ('point', 'NN'), ('of', 'IN'), ('consumption', 'NN'), (',', ','), ('and', 'CC'), ('to', 'TO'), ('be', 'VB'), ('convenient', 'JJ'), (',', ','), ('digital', 'JJ'), (',', ','), ('and', 'CC'), ('immediately', 'RB'), ('accessible', 'JJ'), (',', ','), (\"''\", \"''\"), ('said', 'VBD'), ('Roland', 'NNP'), ('Folz', 'NNP'), (',', ','), ('chief', 'JJ'), ('executive', 'NN'), ('of', 'IN'), ('Solarisbank', 'NNP'), ('which', 'WDT'), ('provides', 'VBZ'), ('banking', 'NN'), ('services', 'NNS'), ('to', 'TO'), ('more', 'JJR'), ('than', 'IN'), ('50', 'CD'), ('companies', 'NNS'), ('including', 'VBG'), ('Samsung', 'NNP'), ('.', '.'), ('It', 'PRP'), (\"'s\", 'VBZ'), ('not', 'RB'), ('just', 'RB'), ('end', 'VB'), ('consumers', 'NNS'), ('being', 'VBG'), ('targeted', 'VBN'), ('by', 'IN'), ('embedded', 'JJ'), ('finance', 'NN'), ('startups', 'NNS'), ('.', '.'), ('Businesses', 'VBZ'), ('themselves', 'PRP'), ('are', 'VBP'), ('being', 'VBG'), ('tapped', 'VBN'), ('on', 'IN'), ('the', 'DT'), ('shoulder', 'NN'), ('as', 'IN'), ('their', 'PRP$'), ('digital', 'JJ'), ('data', 'NN'), ('is', 'VBZ'), ('crunched', 'VBN'), ('by', 'IN'), ('fintechs', 'NNS'), ('such', 'JJ'), ('as', 'IN'), ('Canada', 'NNP'), (\"'s\", 'POS'), ('Shopify', 'NNP'), ('(', '('), ('SHOP.TO', 'NNP'), (')', ')'), ('.', '.'), ('It', 'PRP'), ('provides', 'VBZ'), ('software', 'NN'), ('for', 'IN'), ('merchants', 'NNS'), ('and', 'CC'), ('its', 'PRP$'), ('Shopify', 'NNP'), ('Capital', 'NNP'), ('division', 'NN'), ('also', 'RB'), ('offers', 'VBZ'), ('cash', 'NN'), ('advances', 'NNS'), (',', ','), ('based', 'VBN'), ('on', 'IN'), ('an', 'DT'), ('analysis', 'NN'), ('of', 'IN'), ('more', 'JJR'), ('than', 'IN'), ('70', 'CD'), ('million', 'CD'), ('data', 'NN'), ('points', 'NNS'), ('across', 'IN'), ('its', 'PRP$'), ('platform', 'NN'), ('.', '.'), ('``', '``'), ('No', 'DT'), ('merchant', 'NN'), ('comes', 'VBZ'), ('to', 'TO'), ('us', 'PRP'), ('and', 'CC'), ('says', 'VBZ'), (',', ','), ('I', 'PRP'), ('would', 'MD'), ('like', 'VB'), ('a', 'DT'), ('loan', 'NN'), ('.', '.'), ('We', 'PRP'), ('go', 'VBP'), ('to', 'TO'), ('merchants', 'NNS'), ('and', 'CC'), ('say', 'VB'), (',', ','), ('we', 'PRP'), ('think', 'VBP'), ('it', 'PRP'), (\"'s\", 'VBZ'), ('time', 'NN'), ('for', 'IN'), ('funding', 'VBG'), ('for', 'IN'), ('you', 'PRP'), (',', ','), (\"''\", \"''\"), ('said', 'VBD'), ('Kaz', 'NNP'), ('Nejatian', 'NNP'), (',', ','), ('vice', 'NN'), ('president', 'NN'), (',', ','), ('product', 'NN'), (',', ','), ('merchant', 'NN'), ('services', 'NNS'), ('at', 'IN'), ('Shopify', 'NNP'), ('.', '.'), ('``', '``'), ('We', 'PRP'), ('do', 'VBP'), (\"n't\", 'RB'), ('ask', 'VB'), ('for', 'IN'), ('business', 'NN'), ('plans', 'NNS'), (',', ','), ('we', 'PRP'), ('do', 'VBP'), (\"n't\", 'RB'), ('ask', 'VB'), ('for', 'IN'), ('tax', 'NN'), ('statements', 'NNS'), (',', ','), ('we', 'PRP'), ('do', 'VBP'), (\"n't\", 'RB'), ('ask', 'VB'), ('for', 'IN'), ('income', 'NN'), ('statements', 'NNS'), (',', ','), ('and', 'CC'), ('we', 'PRP'), ('do', 'VBP'), (\"n't\", 'RB'), ('ask', 'VB'), ('for', 'IN'), ('personal', 'JJ'), ('guarantees', 'NNS'), ('.', '.'), ('Not', 'RB'), ('because', 'IN'), ('we', 'PRP'), ('are', 'VBP'), ('benevolent', 'JJ'), ('but', 'CC'), ('because', 'IN'), ('we', 'PRP'), ('think', 'VBP'), ('those', 'DT'), ('are', 'VBP'), ('bad', 'JJ'), ('signals', 'NNS'), ('into', 'IN'), ('the', 'DT'), ('odds', 'NNS'), ('of', 'IN'), ('success', 'NN'), ('on', 'IN'), ('the', 'DT'), ('internet', 'NN'), (',', ','), (\"''\", \"''\"), ('he', 'PRP'), ('said', 'VBD'), ('.', '.'), ('A', 'NNP'), ('Shopify', 'NNP'), ('spokesperson', 'NN'), ('said', 'VBD'), ('funding', 'NN'), ('goes', 'VBZ'), ('from', 'IN'), ('$', '$'), ('200', 'CD'), ('to', 'TO'), ('$', '$'), ('2', 'CD'), ('million', 'CD'), ('.', '.'), ('It', 'PRP'), ('has', 'VBZ'), ('provided', 'VBN'), ('$', '$'), ('2.3', 'CD'), ('billion', 'CD'), ('in', 'IN'), ('cumulative', 'JJ'), ('capital', 'NN'), ('advances', 'NNS'), ('and', 'CC'), ('is', 'VBZ'), ('valued', 'VBN'), ('at', 'IN'), ('$', '$'), ('184', 'CD'), ('billion', 'CD'), (',', ','), ('well', 'RB'), ('above', 'IN'), ('Royal', 'NNP'), ('Bank', 'NNP'), ('of', 'IN'), ('Canada', 'NNP'), ('(', '('), ('RY.TO', 'NNP'), (')', ')'), (',', ','), ('the', 'DT'), ('country', 'NN'), (\"'s\", 'POS'), ('biggest', 'JJS'), ('traditional', 'JJ'), ('lender', 'NN'), ('.', '.'), ('CONNECTED', 'NNP'), ('FUTURE', 'NNP'), ('?', '.'), ('Shopify', 'NNP'), (\"'s\", 'POS'), ('lending', 'NN'), ('business', 'NN'), ('is', 'VBZ'), (',', ','), ('however', 'RB'), (',', ','), ('still', 'RB'), ('dwarfed', 'VBN'), ('by', 'IN'), ('the', 'DT'), ('big', 'JJ'), ('banks', 'NNS'), ('.', '.'), ('JPMorgan', 'NNP'), ('Chase', 'NNP'), ('&', 'CC'), ('Co', 'NNP'), ('(', '('), ('JPM.N', 'NNP'), (')', ')'), (',', ','), ('for', 'IN'), ('example', 'NN'), (',', ','), ('had', 'VBD'), ('a', 'DT'), ('consumer', 'NN'), ('and', 'CC'), ('community', 'NN'), ('loan', 'NN'), ('book', 'NN'), ('worth', 'JJ'), ('$', '$'), ('435', 'CD'), ('billion', 'CD'), ('at', 'IN'), ('the', 'DT'), ('end', 'NN'), ('of', 'IN'), ('June', 'NNP'), ('.', '.'), ('Major', 'JJ'), ('advances', 'NNS'), ('into', 'IN'), ('finance', 'NN'), ('by', 'IN'), ('companies', 'NNS'), ('from', 'IN'), ('other', 'JJ'), ('sectors', 'NNS'), ('could', 'MD'), ('also', 'RB'), ('be', 'VB'), ('limited', 'VBN'), ('by', 'IN'), ('regulators', 'NNS'), ('.', '.'), ('Officials', 'NNS'), ('from', 'IN'), ('the', 'DT'), ('Bank', 'NNP'), ('for', 'IN'), ('International', 'NNP'), ('Settlements', 'NNP'), (',', ','), ('a', 'DT'), ('consortium', 'NN'), ('of', 'IN'), ('central', 'JJ'), ('banks', 'NNS'), ('and', 'CC'), ('financial', 'JJ'), ('regulators', 'NNS'), (',', ','), ('warned', 'VBD'), ('watchdogs', 'NNS'), ('last', 'JJ'), ('month', 'NN'), ('to', 'TO'), ('get', 'VB'), ('to', 'TO'), ('grips', 'VB'), ('with', 'IN'), ('the', 'DT'), ('growing', 'VBG'), ('influence', 'NN'), ('of', 'IN'), ('technology', 'NN'), ('firms', 'NNS'), ('in', 'IN'), ('finance', 'NN'), ('.', '.'), ('read', 'VB'), ('more', 'JJR'), ('Bain', 'NNP'), (\"'s\", 'POS'), ('Harris', 'NNP'), ('said', 'VBD'), ('financial', 'JJ'), ('regulators', 'NNS'), ('were', 'VBD'), ('taking', 'VBG'), ('the', 'DT'), ('approach', 'NN'), ('that', 'WDT'), ('because', 'IN'), ('they', 'PRP'), ('do', 'VBP'), (\"n't\", 'RB'), ('know', 'VB'), ('how', 'WRB'), ('to', 'TO'), ('regulate', 'VB'), ('tech', 'JJ'), ('firms', 'NNS'), ('they', 'PRP'), ('are', 'VBP'), ('insisting', 'VBG'), ('there', 'EX'), (\"'s\", 'VBZ'), ('a', 'DT'), ('bank', 'NN'), ('behind', 'IN'), ('every', 'DT'), ('transaction', 'NN'), ('-', ':'), ('but', 'CC'), ('that', 'DT'), ('did', 'VBD'), ('not', 'RB'), ('mean', 'JJ'), ('banks', 'NNS'), ('would', 'MD'), ('prevent', 'VB'), ('fintechs', 'JJ'), ('encroaching', 'NN'), ('.', '.'), ('``', '``'), ('They', 'PRP'), ('are', 'VBP'), ('right', 'JJ'), ('that', 'IN'), ('the', 'DT'), ('banks', 'NNS'), ('will', 'MD'), ('always', 'RB'), ('have', 'VB'), ('a', 'DT'), ('role', 'NN'), ('but', 'CC'), ('it', 'PRP'), (\"'s\", 'VBZ'), ('not', 'RB'), ('a', 'DT'), ('very', 'RB'), ('remunerative', 'JJ'), ('role', 'NN'), ('and', 'CC'), ('it', 'PRP'), ('involves', 'VBZ'), ('very', 'RB'), ('little', 'JJ'), ('ownership', 'NN'), ('of', 'IN'), ('the', 'DT'), ('customer', 'NN'), (',', ','), (\"''\", \"''\"), ('he', 'PRP'), ('said', 'VBD'), ('.', '.'), ('Forrester', 'NNP'), ('analyst', 'NN'), ('Jacob', 'NNP'), ('Morgan', 'NNP'), ('said', 'VBD'), ('banks', 'NNS'), ('had', 'VBD'), ('to', 'TO'), ('decide', 'VB'), ('where', 'WRB'), ('they', 'PRP'), ('want', 'VBP'), ('to', 'TO'), ('be', 'VB'), ('in', 'IN'), ('the', 'DT'), ('finance', 'NN'), ('chain', 'NN'), ('.', '.'), ('``', '``'), ('Can', 'MD'), ('they', 'PRP'), ('afford', 'VB'), ('to', 'TO'), ('fight', 'VB'), ('for', 'IN'), ('customer', 'NN'), ('primacy', 'NN'), (',', ','), ('or', 'CC'), ('do', 'VBP'), ('they', 'PRP'), ('actually', 'RB'), ('see', 'VBP'), ('a', 'DT'), ('more', 'RBR'), ('profitable', 'JJ'), ('route', 'NN'), ('to', 'TO'), ('market', 'NN'), ('to', 'TO'), ('become', 'VB'), ('the', 'DT'), ('rails', 'NNS'), ('that', 'IN'), ('other', 'JJ'), ('people', 'NNS'), ('run', 'VBP'), ('on', 'IN'), ('top', 'NN'), ('of', 'IN'), ('?', '.'), (\"''\", \"''\"), ('he', 'PRP'), ('said', 'VBD'), ('.', '.'), ('``', '``'), ('Some', 'DT'), ('banks', 'NNS'), ('will', 'MD'), ('choose', 'VB'), ('to', 'TO'), ('do', 'VB'), ('both', 'DT'), ('.', '.'), (\"''\", \"''\"), ('And', 'CC'), ('some', 'DT'), ('are', 'VBP'), ('already', 'RB'), ('fighting', 'VBG'), ('back', 'RB'), ('.', '.'), ('Citigroup', 'NNP'), ('(', '('), ('C.N', 'NNP'), (')', ')'), ('has', 'VBZ'), ('teamed', 'VBN'), ('up', 'RP'), ('with', 'IN'), ('Google', 'NNP'), ('on', 'IN'), ('bank', 'NN'), ('accounts', 'NNS'), (',', ','), ('Goldman', 'NNP'), ('Sachs', 'NNP'), ('(', '('), ('GS.N', 'NNP'), (')', ')'), ('is', 'VBZ'), ('providing', 'VBG'), ('credit', 'NN'), ('cards', 'NNS'), ('for', 'IN'), ('Apple', 'NNP'), ('(', '('), ('AAPL.O', 'NNP'), (')', ')'), ('and', 'CC'), ('JPMorgan', 'NNP'), ('is', 'VBZ'), ('buying', 'VBG'), ('75', 'CD'), ('%', 'NN'), ('of', 'IN'), ('Volkswagen', 'NNP'), (\"'s\", 'POS'), ('payments', 'NNS'), ('business', 'NN'), ('and', 'CC'), ('plans', 'NNS'), ('to', 'TO'), ('expand', 'VB'), ('to', 'TO'), ('other', 'JJ'), ('industries', 'NNS'), ('.', '.'), ('read', 'VB'), ('more', 'RBR'), ('06:00:00', 'CD'), (\"''\", \"''\"), ('Connectivity', 'NN'), ('between', 'IN'), ('different', 'JJ'), ('systems', 'NNS'), ('is', 'VBZ'), ('the', 'DT'), ('future', 'NN'), (',', ','), (\"''\", \"''\"), ('said', 'VBD'), ('Shahrokh', 'NNP'), ('Moinian', 'NNP'), (',', ','), ('head', 'NN'), ('of', 'IN'), ('wholesale', 'JJ'), ('payments', 'NNS'), (',', ','), ('EMEA', 'NNP'), (',', ','), ('at', 'IN'), ('JPMorgan', 'NNP'), ('.', '.'), ('``', '``'), ('We', 'PRP'), ('want', 'VBP'), ('to', 'TO'), ('be', 'VB'), ('the', 'DT'), ('leader', 'NN'), ('.', '.'), (\"''\", \"''\")]\n"
     ]
    }
   ],
   "source": [
    "data = nltk.pos_tag(words)\n",
    "\n",
    "print(data)"
   ]
  },
  {
   "cell_type": "code",
   "execution_count": 9,
   "id": "a0cc95e2",
   "metadata": {},
   "outputs": [],
   "source": [
    "verb = 0\n",
    "noun = 0\n",
    "adjective = 0\n",
    "determiner = 0\n",
    "adverb = 0\n",
    "pronoun = 0\n",
    "preposition = 0\n",
    "conjunction = 0\n",
    "interjection = 0\n",
    "\n",
    "\n",
    "\n",
    "\n",
    "for i in data :\n",
    "    if(i[1] == 'VB'):\n",
    "         verb = verb+1\n",
    "    if(i[1] == 'VBD'):\n",
    "         verb = verb+1\n",
    "    if(i[1] == 'VBG'):\n",
    "         verb = verb+1\n",
    "    if(i[1] == 'VBN'):\n",
    "         verb = verb+1\n",
    "    if(i[1] == 'VBP'):\n",
    "         verb = verb+1\n",
    "    if(i[1] == 'VBZ'):\n",
    "         verb = verb+1\n",
    "    if(i[1] == 'NN'):\n",
    "         noun = noun+1\n",
    "    if(i[1] == 'NNS'):\n",
    "         noun = noun+1\n",
    "    if(i[1] == 'NNP'):\n",
    "         noun = noun+1\n",
    "    if(i[1] == 'NNPS'):\n",
    "         noun = noun+1\n",
    "    if(i[1] == 'PDT'):\n",
    "         noun = noun+1\n",
    "    if(i[1] == 'POS'):\n",
    "         noun = noun+1\n",
    "    if(i[1] == 'WDT'):\n",
    "         determiner = determiner+1\n",
    "    if(i[1] == 'JJ'):\n",
    "         adjective  = adjective +1\n",
    "    if(i[1] == 'JJR'):\n",
    "         adjective  = adjective +1\n",
    "    if(i[1] == 'JJS'):\n",
    "         adjective  = adjective +1\n",
    "    if(i[1] == 'RB'):\n",
    "         adverb  = adverb +1\n",
    "    if(i[1] == 'RBR'):\n",
    "         adverb  = adverb +1\n",
    "    if(i[1] == 'RBS'):\n",
    "         adverb  = adverb +1\n",
    "    \n",
    "    \n",
    "    if(i[1] == 'WP'):\n",
    "         pronoun = pronoun+1\n",
    "    if(i[1] == 'WP$'):\n",
    "         pronoun = pronoun+1\n",
    "    if(i[1] == 'WP$'):\n",
    "         pronoun = pronoun+1\n",
    "    if(i[1] == 'IN'):\n",
    "         preposition = preposition+1\n",
    "    if(i[1] == 'WRB'):\n",
    "         adverb  = adverb +1\n",
    "    if(i[1] == 'WRB'):\n",
    "         adverb  = adverb +1\n",
    "    if(i[1] == 'UH'):\n",
    "         interjection  = interjection +1\n",
    "    \n",
    "\n",
    "    \n",
    "    \n",
    "        \n",
    "    \n",
    "   \n",
    "        \n",
    "        \n",
    "        \n",
    "        \n",
    "        \n",
    "        \n",
    "            \n",
    "        \n",
    "            \n",
    "            \n",
    "        \n",
    "    \n",
    "    "
   ]
  },
  {
   "cell_type": "code",
   "execution_count": 10,
   "id": "c7581aad",
   "metadata": {},
   "outputs": [
    {
     "name": "stdout",
     "output_type": "stream",
     "text": [
      "la cantidad de vervos es 229   la cantidad de sustantivos es 94   la cantidad de determinantes 8\n"
     ]
    }
   ],
   "source": [
    "print(\"la cantidad de vervos es \" + str(verb) +  \"   la cantidad de sustantivos es \" + str(adjective)+ \"   la cantidad de determinantes \"+str(determiner))"
   ]
  },
  {
   "cell_type": "code",
   "execution_count": 11,
   "id": "47197671-4a0d-4c7e-9060-4ba3e5200cc1",
   "metadata": {},
   "outputs": [
    {
     "name": "stdout",
     "output_type": "stream",
     "text": [
      "la cantidad de adverbios es 70   la cantidad de pronombres es 1   la cantidad de preposicion 143\n"
     ]
    }
   ],
   "source": [
    "print(\"la cantidad de adverbios es \" + str(adverb) +  \"   la cantidad de pronombres es \" + str(pronoun)+ \"   la cantidad de preposicion \"+str(preposition))"
   ]
  },
  {
   "cell_type": "code",
   "execution_count": 12,
   "id": "57f954d7-c330-4af1-b243-83824a0febc3",
   "metadata": {},
   "outputs": [
    {
     "name": "stdout",
     "output_type": "stream",
     "text": [
      "la cantidad de conjunciones es 0   la cantidad de intercciones es 0\n"
     ]
    }
   ],
   "source": [
    "print(\"la cantidad de conjunciones es \" + str(conjunction) +  \"   la cantidad de intercciones es \" + str(interjection))"
   ]
  },
  {
   "cell_type": "code",
   "execution_count": 13,
   "id": "eb9fd971",
   "metadata": {},
   "outputs": [],
   "source": [
    "sc.stop()"
   ]
  },
  {
   "cell_type": "code",
   "execution_count": null,
   "id": "fff2b847",
   "metadata": {},
   "outputs": [],
   "source": []
  }
 ],
 "metadata": {
  "celltoolbar": "Raw Cell Format",
  "kernelspec": {
   "display_name": "Python 3 (ipykernel)",
   "language": "python",
   "name": "python3"
  },
  "language_info": {
   "codemirror_mode": {
    "name": "ipython",
    "version": 3
   },
   "file_extension": ".py",
   "mimetype": "text/x-python",
   "name": "python",
   "nbconvert_exporter": "python",
   "pygments_lexer": "ipython3",
   "version": "3.10.2"
  }
 },
 "nbformat": 4,
 "nbformat_minor": 5
}
